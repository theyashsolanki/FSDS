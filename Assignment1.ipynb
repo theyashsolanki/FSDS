{
 "cells": [
  {
   "cell_type": "code",
   "execution_count": 3,
   "id": "98badf79-5726-4a7a-87be-6db42d9f4687",
   "metadata": {},
   "outputs": [
    {
     "name": "stdout",
     "output_type": "stream",
     "text": [
      "before :  x = 4 y = 6\n",
      "after  :  x = 2 y = 8\n"
     ]
    }
   ],
   "source": [
    "\"\"\"\n",
    "1) Declare two variables, `x` and `y`, and assign them integer values.\n",
    "Swap the values of these variables without using any temporary\n",
    "variable.\n",
    "\"\"\"\n",
    "x = 4\n",
    "y = 6\n",
    "\n",
    "print(\"before : \", \"x =\", x, \"y =\", y)\n",
    "\n",
    "'''\n",
    "if x > y: # Checking which one is greater so diff is not nagative and then i can add the diff to the smaller one and subtract the diff from the bigger one\n",
    "    diff = x - y\n",
    "    x = x - diff\n",
    "    y = y + diff\n",
    "else:\n",
    "    diff = y - x\n",
    "    y = y - diff\n",
    "    x = x + diff\n",
    "'''\n",
    "\n",
    "x = x + y # this contains total\n",
    "y = x - y # remove y from the total so x remains (now y contains x)\n",
    "x = x - y # remove x from the total so y remains \n",
    "print(\"after  : \", \"x =\", x, \"y =\", y)\n",
    "\n",
    "\n"
   ]
  },
  {
   "cell_type": "code",
   "execution_count": 6,
   "id": "5a195d77-82f0-4c8a-bdee-d7123dd8e4eb",
   "metadata": {},
   "outputs": [
    {
     "name": "stdin",
     "output_type": "stream",
     "text": [
      "Enter length:  5\n",
      "Enter width:  4\n"
     ]
    },
    {
     "name": "stdout",
     "output_type": "stream",
     "text": [
      "Area:  20\n"
     ]
    }
   ],
   "source": [
    "\"\"\"\n",
    "2) Create a program that calculates the area of a rectangle. Take the\n",
    "length and width as inputs from the user and store them in variables.\n",
    "Calculate and display the area.\n",
    "\"\"\"\n",
    "\n",
    "\n",
    "length = int(input(\"Enter length: \"))\n",
    "width = int(input(\"Enter width: \"))\n",
    "\n",
    "area = length * width # i had to google this\n",
    "print(\"Area: \", area)\n",
    "\n"
   ]
  },
  {
   "cell_type": "code",
   "execution_count": 7,
   "id": "531a4096-ef6d-4ddd-ac8a-e2adcee5d684",
   "metadata": {},
   "outputs": [
    {
     "name": "stdin",
     "output_type": "stream",
     "text": [
      "Enter temperature in Celsius:  56\n"
     ]
    },
    {
     "name": "stdout",
     "output_type": "stream",
     "text": [
      "Temperature in Fahrenheit:  132.8\n"
     ]
    }
   ],
   "source": [
    "'''\n",
    "3) Write a Python program that converts temperature from Celsius to\n",
    "Fahrenheit. Take the temperature in Celsius as input, store it in a\n",
    "variable, convert it to Fahrenheit, and display the result.\n",
    "'''\n",
    "\n",
    "\n",
    "celsius = int(input(\"Enter temperature in Celsius: \"))\n",
    "\n",
    "fahrenheit = (celsius * 9/5) + 32 # had to google this\n",
    "print(\"Temperature in Fahrenheit: \", fahrenheit)\n",
    "\n"
   ]
  },
  {
   "cell_type": "code",
   "execution_count": 12,
   "id": "1e3da13d-cfbe-4ada-a642-69a3f89c780a",
   "metadata": {},
   "outputs": [
    {
     "name": "stdin",
     "output_type": "stream",
     "text": [
      "Enter string:  yash\n"
     ]
    },
    {
     "name": "stdout",
     "output_type": "stream",
     "text": [
      "Using len() :  4\n",
      "Using loop  :  4\n"
     ]
    }
   ],
   "source": [
    "'''\n",
    "STRING BASED QUESTIONS\n",
    "'''\n",
    "\n",
    "'''\n",
    "1) Write a Python program that takes a string as input and prints the\n",
    "length of the string.\n",
    "'''\n",
    "\n",
    "user = input(\"Enter string: \")\n",
    "print(\"Using len() : \", len(user)) \n",
    "\n",
    "# we can use loop also and i think len() function internally uses something like this\n",
    "str_len = 0\n",
    "for i in user:\n",
    "    str_len += 1\n",
    "print(\"Using loop  : \", str_len)"
   ]
  },
  {
   "cell_type": "code",
   "execution_count": 13,
   "id": "fe0ffe55-75a9-4b1f-bce3-81997f0b5c24",
   "metadata": {},
   "outputs": [
    {
     "name": "stdin",
     "output_type": "stream",
     "text": [
      "Enter sentence:  hello my name is yash\n"
     ]
    },
    {
     "name": "stdout",
     "output_type": "stream",
     "text": [
      "Number of vowels:  6\n"
     ]
    }
   ],
   "source": [
    "'''\n",
    "2) Create a program that takes a sentence from the user and counts the\n",
    "number of vowels (a, e, i, o, u) in the string.\n",
    "'''\n",
    "\n",
    "sentence = input(\"Enter sentence: \")\n",
    "vowels = 0\n",
    "\n",
    "for i in sentence:\n",
    "    if i in \"aeiou\":\n",
    "        vowels += 1\n",
    "\n",
    "print(\"Number of vowels: \", vowels)\n"
   ]
  },
  {
   "cell_type": "code",
   "execution_count": 1,
   "id": "719b0313-103b-4bc2-a009-3327efbdbd30",
   "metadata": {},
   "outputs": [
    {
     "name": "stdin",
     "output_type": "stream",
     "text": [
      "Enter string:  yash\n"
     ]
    },
    {
     "name": "stdout",
     "output_type": "stream",
     "text": [
      "Method 1:  hsay\n",
      "Method 2:  hsay\n"
     ]
    }
   ],
   "source": [
    "'''\n",
    "3) Given a string, reverse the order of characters using string slicing and\n",
    "print the reversed string.\n",
    "'''\n",
    "\n",
    "user = input(\"Enter string: \")\n",
    "print(\"Method 1: \", user[::-1]) # user[startIndex : stopIndex (Excluding) : jump] -1 will go from last to first, 1 will go from first to last, Default is 1\n",
    "print(\"Method 2: \", user[len(user)-1::-1]) # this is same as above, we can't use 0 for stop bcoz it will be excluded so keeping it empty is the only choice\n",
    "\n"
   ]
  },
  {
   "cell_type": "code",
   "execution_count": 3,
   "id": "7383d3e8-a707-41e8-bdbe-e12ce02bdd2a",
   "metadata": {},
   "outputs": [
    {
     "name": "stdin",
     "output_type": "stream",
     "text": [
      "Enter string:  yash\n"
     ]
    },
    {
     "name": "stdout",
     "output_type": "stream",
     "text": [
      "Not a palindrome\n"
     ]
    }
   ],
   "source": [
    "'''\n",
    "4) Write a program that takes a string as input and checks if it is a\n",
    "palindrome (reads the same forwards and backwards).\n",
    "'''\n",
    "\n",
    "user = input(\"Enter string: \")\n",
    "\n",
    "# this is easy if you know how to reverse a string\n",
    "\n",
    "if user == user[::-1]: # checking if the string is equal to its reversed version\n",
    "    print(\"Palindrome\")\n",
    "else:\n",
    "    print(\"Not a palindrome\")\n"
   ]
  },
  {
   "cell_type": "code",
   "execution_count": 14,
   "id": "dbd17593-ad72-4e16-9bc6-a7982c921fc9",
   "metadata": {},
   "outputs": [
    {
     "name": "stdin",
     "output_type": "stream",
     "text": [
      "Enter string:    h e llo\n"
     ]
    },
    {
     "name": "stdout",
     "output_type": "stream",
     "text": [
      "Modified string:  hello\n"
     ]
    }
   ],
   "source": [
    "'''\n",
    "5) Create a program that takes a string as input and removes all the\n",
    "spaces from it. Print the modified string without spaces.\n",
    "'''\n",
    "\n",
    "\n",
    "user = input(\"Enter string: \")\n",
    "user = user.replace(\" \", \"\") # this will create a new string with new memory location and make the user variable point to it\n",
    "print(\"Modified string: \", user)\n"
   ]
  },
  {
   "cell_type": "code",
   "execution_count": null,
   "id": "08249335-5795-40a4-9ccd-9392fbd844a0",
   "metadata": {},
   "outputs": [],
   "source": []
  }
 ],
 "metadata": {
  "kernelspec": {
   "display_name": "Python 3 (ipykernel)",
   "language": "python",
   "name": "python3"
  },
  "language_info": {
   "codemirror_mode": {
    "name": "ipython",
    "version": 3
   },
   "file_extension": ".py",
   "mimetype": "text/x-python",
   "name": "python",
   "nbconvert_exporter": "python",
   "pygments_lexer": "ipython3",
   "version": "3.10.8"
  }
 },
 "nbformat": 4,
 "nbformat_minor": 5
}
